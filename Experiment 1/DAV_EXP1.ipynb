{
  "nbformat": 4,
  "nbformat_minor": 0,
  "metadata": {
    "colab": {
      "provenance": [],
      "authorship_tag": "ABX9TyOtcXqmeOztwLehdqe6bcoE",
      "include_colab_link": true
    },
    "kernelspec": {
      "name": "ir",
      "display_name": "R"
    },
    "language_info": {
      "name": "R"
    }
  },
  "cells": [
    {
      "cell_type": "markdown",
      "metadata": {
        "id": "view-in-github",
        "colab_type": "text"
      },
      "source": [
        "<a href=\"https://colab.research.google.com/github/Parth18062003/DAV/blob/main/Experiment%201/DAV_EXP1.ipynb\" target=\"_parent\"><img src=\"https://colab.research.google.com/assets/colab-badge.svg\" alt=\"Open In Colab\"/></a>"
      ]
    },
    {
      "cell_type": "markdown",
      "source": [
        "\n",
        "\n",
        "\n",
        "Parth Kadam   \n",
        "D11AD    \n",
        "27\n",
        "\n",
        "\n"
      ],
      "metadata": {
        "id": "1LjBKuNnbKh1"
      }
    },
    {
      "cell_type": "markdown",
      "source": [
        "#Experiment 1\n",
        "\n",
        "\n",
        "> **Aim:** Getting introduced to data analytics libraries in Python and R\n",
        "\n",
        "\n",
        "\n",
        "\n",
        "\n",
        "\n",
        "\n",
        "\n",
        "\n"
      ],
      "metadata": {
        "id": "9tr1j2LfWn6e"
      }
    },
    {
      "cell_type": "markdown",
      "source": [
        "> **Lab Objectives:** To effectively use libraries for data analytics.\n",
        "\n",
        "> **Lab Outcomes (LO):** Explore various data analytics Libraries in R and Python. (LO1)\n",
        "\n",
        "\n"
      ],
      "metadata": {
        "id": "0M2hw_nwXxic"
      }
    },
    {
      "cell_type": "markdown",
      "source": [
        "\n",
        "**Task to be performed :**\n",
        "\n",
        "1.  Explore Top-5 Data Analytics Libraries in Python (w.r.t Features & Applications)\n",
        "\n",
        "1.   Explore Top-5 Data Analytics Libraries in R (w.r.t Features & Applications)\n",
        "2.  Install 2 Libraries each for Python and R\n",
        "\n",
        "\n",
        "4.  Perform simple experiments on the 2 identified libraries each for Python and R\n",
        "2.   Prepare a document with the Aim, Tasks performed, Program, Output, and Conclusion.\n",
        "\n",
        "\n",
        "\n",
        "\n",
        "\n",
        "\n"
      ],
      "metadata": {
        "id": "LBKiogdoYa0k"
      }
    },
    {
      "cell_type": "markdown",
      "source": [
        "**Theory:**\n",
        "\n",
        ">## 5 Data Analytics Libraries in Python:\n",
        "\n",
        "\n",
        "*   **NumPy**: NumPy is a Python library used for working with arrays.\n",
        " It also has functions for working in domain of linear algebra, fourier transform, and matrices.\n",
        "\n",
        " * A powerful N-dimensional array object\n",
        "\n",
        " * Sophisticated (broadcasting) functions\n",
        "\n",
        " * Tools for integrating C/C++ and Fortran code\n",
        "\n",
        " * Useful linear algebra, Fourier transform, and random number capabilities\n",
        "\n",
        "*   **Pandas:** Pandas is a Python library used for working with data sets. It has functions for analyzing, cleaning, exploring, and manipulating data.\n",
        " * Data set cleaning, merging, and joining.\n",
        "\n",
        " * Easy handling of missing data (represented as NaN) in floating point as well as non-floating point data.\n",
        " * Columns can be inserted and deleted from DataFrame and higher dimensional objects.\n",
        " * Powerful group by functionality for performing split-apply-combine operations on data sets.\n",
        " * Data Visulaization\n",
        "\n",
        "* **SciPy:** Scipy (Scientific Python) is an open-source library built on top of NumPy and provides additional functionality for scientific computing. While NumPy focuses on numerical operations, Scipy extends its capabilities to include optimization, integration, interpolation, signal and image processing, statistical functions, and more.\n",
        " * Numerical Analysis: Scipy is used for various numerical analysis tasks, including solving mathematical equations, numerical integration, and root finding.\n",
        " * Optimization in Machine Learning: Scipy's optimization functions are applied in machine learning for tasks such as parameter tuning and model training.\n",
        " * Interpolation for Data Smoothing: Scipy's interpolation functions are employed for smoothing and estimating values between data points, which is useful in data preprocessing and visualization.\n",
        " * Statistical Analysis: The statistical functions in Scipy are utilized for hypothesis testing, probability distributions, and descriptive statistics in data analysis.\n",
        " * Signal and Image Processing: Scipy's signal and image processing modules are applied in tasks such as filtering, feature extraction, and image manipulation in data analytics.\n",
        "\n",
        "* **BeautifulSoup:** Beautiful Soup is a Python package for parsing HTML and XML documents (including having malformed markup, i.e. non-closed tags, so named after tag soup). It creates a parse tree for parsed pages that can be used to extract data from HTML, which is useful for web scraping.\n",
        "\n",
        "  *   HTML/XML Parsing: Beautiful Soup allows easy extraction of data from HTML and XML documents by providing methods to navigate the parse tree.\n",
        "  * Tag and Attribute Searching: Beautiful Soup makes it easy to search for specific HTML or XML tags and their attributes, simplifying the process of locating and extracting relevant information.\n",
        "  * Tree Navigation: Beautiful Soup creates a parse tree from the input HTML or XML, and it provides methods for navigating this tree structure to access specific elements.\n",
        "  * Content Extraction: It allows the extraction of the textual content, attributes, and other data associated with HTML or XML elements.\n",
        "\n",
        "* **Tensorflow:**   TensorFlow is an open-source machine learning library developed by Google. TensorFlow is used to build and train deep learning models as it facilitates the creation of computational graphs and efficient execution on various hardware platforms.\n",
        "  \n",
        " * Predictive Analytics: TensorFlow is used for building predictive models to analyze trends, forecast future values, and make predictions based on historical data.\n",
        " * Anomaly Detection: TensorFlow's machine learning capabilities are applied to detect anomalies or outliers in datasets, a crucial aspect of data analytics for identifying unusual patterns.\n",
        " * Image and Video Analysis: TensorFlow is widely used for image and video analysis tasks, including object detection, image classification, and facial recognition in data analytics applications.\n",
        " * Natural Language Processing (NLP):\n",
        " TensorFlow's capabilities in NLP are applied to analyze and understand text data, including sentiment analysis, text summarization, and language translation.\n",
        "      \n",
        "\n"
      ],
      "metadata": {
        "id": "VV_BenYgbZSc"
      }
    },
    {
      "cell_type": "code",
      "source": [
        "!pip install numpy"
      ],
      "metadata": {
        "id": "eQfJ6gi0k2Xf",
        "colab": {
          "base_uri": "https://localhost:8080/"
        },
        "outputId": "ba1947ab-de64-42a7-8527-8e119aa1284d"
      },
      "execution_count": null,
      "outputs": [
        {
          "output_type": "stream",
          "name": "stdout",
          "text": [
            "Requirement already satisfied: numpy in /usr/local/lib/python3.10/dist-packages (1.23.5)\n"
          ]
        }
      ]
    },
    {
      "cell_type": "code",
      "source": [
        "import numpy as np\n",
        "\n",
        "arr = np.array([[[1, 2, 3], [4, 5, 6]], [[1, 2, 3], [4, 5, 6]]])\n",
        "\n",
        "print(arr)"
      ],
      "metadata": {
        "id": "FSHpxJIUlfVn",
        "colab": {
          "base_uri": "https://localhost:8080/"
        },
        "outputId": "d47c3596-4f38-4a29-e7bd-c0251e86d8c8"
      },
      "execution_count": null,
      "outputs": [
        {
          "output_type": "stream",
          "name": "stdout",
          "text": [
            "[[[1 2 3]\n",
            "  [4 5 6]]\n",
            "\n",
            " [[1 2 3]\n",
            "  [4 5 6]]]\n"
          ]
        }
      ]
    },
    {
      "cell_type": "code",
      "source": [
        "a = np.array(42)\n",
        "b = np.array([1, 2, 3, 4, 5])\n",
        "c = np.array([[1, 2, 3], [4, 5, 6]])\n",
        "d = np.array([[[1, 2, 3], [4, 5, 6]], [[1, 2, 3], [4, 5, 6]]])\n",
        "\n",
        "print(a.ndim)\n",
        "print(b.ndim)\n",
        "print(c.ndim)\n",
        "print(d.ndim)"
      ],
      "metadata": {
        "id": "UknGf_lIliPg",
        "colab": {
          "base_uri": "https://localhost:8080/"
        },
        "outputId": "68794639-2b37-44a8-d041-7d32a254ba9a"
      },
      "execution_count": null,
      "outputs": [
        {
          "output_type": "stream",
          "name": "stdout",
          "text": [
            "0\n",
            "1\n",
            "2\n",
            "3\n"
          ]
        }
      ]
    },
    {
      "cell_type": "code",
      "source": [
        "arr = np.array([[[1, 2, 3], [4, 5, 6]], [[7, 8, 9], [10, 11, 12]]])\n",
        "\n",
        "print(arr[0, 1, 2])"
      ],
      "metadata": {
        "id": "ACZkw7BJly8g",
        "colab": {
          "base_uri": "https://localhost:8080/"
        },
        "outputId": "d0a449a1-5346-42da-d88a-50d66db0162d"
      },
      "execution_count": null,
      "outputs": [
        {
          "output_type": "stream",
          "name": "stdout",
          "text": [
            "6\n"
          ]
        }
      ]
    },
    {
      "cell_type": "code",
      "source": [
        "arr = np.array([3, 2, 0, 1])\n",
        "\n",
        "print(np.sort(arr))"
      ],
      "metadata": {
        "id": "bcpHytEgl9lv",
        "colab": {
          "base_uri": "https://localhost:8080/"
        },
        "outputId": "6d7f4059-408c-454f-c074-ed74bb8e24db"
      },
      "execution_count": null,
      "outputs": [
        {
          "output_type": "stream",
          "name": "stdout",
          "text": [
            "[0 1 2 3]\n"
          ]
        }
      ]
    },
    {
      "cell_type": "code",
      "source": [
        "arr = np.array([])\n",
        "print(\"Empty array: \",arr)\n",
        "arr = np.append(arr, np.array(['P', 'A', 'R','T','H']))\n",
        "print(\"Appended array: \",arr)"
      ],
      "metadata": {
        "colab": {
          "base_uri": "https://localhost:8080/"
        },
        "id": "tnQNjJkSnICP",
        "outputId": "c81d972a-19ad-4832-8093-0ee669adf35a"
      },
      "execution_count": null,
      "outputs": [
        {
          "output_type": "stream",
          "name": "stdout",
          "text": [
            "Empty array:  []\n",
            "Appended array:  ['P' 'A' 'R' 'T' 'H']\n"
          ]
        }
      ]
    },
    {
      "cell_type": "code",
      "source": [
        "!pip install pandas"
      ],
      "metadata": {
        "colab": {
          "base_uri": "https://localhost:8080/"
        },
        "id": "JKqKYSgTnW_O",
        "outputId": "26240ca8-0333-46a8-e6a6-bffd8f365947"
      },
      "execution_count": null,
      "outputs": [
        {
          "output_type": "stream",
          "name": "stdout",
          "text": [
            "Requirement already satisfied: pandas in /usr/local/lib/python3.10/dist-packages (1.5.3)\n",
            "Requirement already satisfied: python-dateutil>=2.8.1 in /usr/local/lib/python3.10/dist-packages (from pandas) (2.8.2)\n",
            "Requirement already satisfied: pytz>=2020.1 in /usr/local/lib/python3.10/dist-packages (from pandas) (2023.3.post1)\n",
            "Requirement already satisfied: numpy>=1.21.0 in /usr/local/lib/python3.10/dist-packages (from pandas) (1.23.5)\n",
            "Requirement already satisfied: six>=1.5 in /usr/local/lib/python3.10/dist-packages (from python-dateutil>=2.8.1->pandas) (1.16.0)\n"
          ]
        }
      ]
    },
    {
      "cell_type": "code",
      "source": [
        "import pandas as pd\n",
        "\n",
        "details = {\n",
        "\t'Name' : ['Parth', 'Naruto', 'Ichigo', 'Luffy'],\n",
        "\t'Roll_no' : [19, 21, 22, 21],\n",
        "\t'Class' : ['D6AD', 'D2A', 'D5B', 'D8A'],\n",
        "}\n",
        "\n",
        "df = pd.DataFrame(details)\n",
        "print(\"Data frame:\")\n",
        "print(df)"
      ],
      "metadata": {
        "colab": {
          "base_uri": "https://localhost:8080/"
        },
        "id": "zho6fqMBnaZW",
        "outputId": "ca146f2d-ddc4-463a-91d9-13a88e88fb1e"
      },
      "execution_count": null,
      "outputs": [
        {
          "output_type": "stream",
          "name": "stdout",
          "text": [
            "Data frame:\n",
            "     Name  Roll_no Class\n",
            "0   Parth       19  D6AD\n",
            "1  Naruto       21   D2A\n",
            "2  Ichigo       22   D5B\n",
            "3   Luffy       21   D8A\n"
          ]
        }
      ]
    },
    {
      "cell_type": "code",
      "source": [
        "df = pd.DataFrame(details)\n",
        "print('SORTED DATAFRAME')\n",
        "df.sort_values(by=['Roll_no'], ascending=False)"
      ],
      "metadata": {
        "colab": {
          "base_uri": "https://localhost:8080/",
          "height": 192
        },
        "id": "KFueW-D0njwY",
        "outputId": "29f2da8c-2e18-4360-893b-71a75e5a3df8"
      },
      "execution_count": null,
      "outputs": [
        {
          "output_type": "stream",
          "name": "stdout",
          "text": [
            "SORTED DATAFRAME\n"
          ]
        },
        {
          "output_type": "execute_result",
          "data": {
            "text/plain": [
              "     Name  Roll_no Class\n",
              "2  Ichigo       22   D5B\n",
              "1  Naruto       21   D2A\n",
              "3   Luffy       21   D8A\n",
              "0   Parth       19  D6AD"
            ],
            "text/html": [
              "\n",
              "  <div id=\"df-fd371bef-78fe-4602-8285-cb3e36cd601d\" class=\"colab-df-container\">\n",
              "    <div>\n",
              "<style scoped>\n",
              "    .dataframe tbody tr th:only-of-type {\n",
              "        vertical-align: middle;\n",
              "    }\n",
              "\n",
              "    .dataframe tbody tr th {\n",
              "        vertical-align: top;\n",
              "    }\n",
              "\n",
              "    .dataframe thead th {\n",
              "        text-align: right;\n",
              "    }\n",
              "</style>\n",
              "<table border=\"1\" class=\"dataframe\">\n",
              "  <thead>\n",
              "    <tr style=\"text-align: right;\">\n",
              "      <th></th>\n",
              "      <th>Name</th>\n",
              "      <th>Roll_no</th>\n",
              "      <th>Class</th>\n",
              "    </tr>\n",
              "  </thead>\n",
              "  <tbody>\n",
              "    <tr>\n",
              "      <th>2</th>\n",
              "      <td>Ichigo</td>\n",
              "      <td>22</td>\n",
              "      <td>D5B</td>\n",
              "    </tr>\n",
              "    <tr>\n",
              "      <th>1</th>\n",
              "      <td>Naruto</td>\n",
              "      <td>21</td>\n",
              "      <td>D2A</td>\n",
              "    </tr>\n",
              "    <tr>\n",
              "      <th>3</th>\n",
              "      <td>Luffy</td>\n",
              "      <td>21</td>\n",
              "      <td>D8A</td>\n",
              "    </tr>\n",
              "    <tr>\n",
              "      <th>0</th>\n",
              "      <td>Parth</td>\n",
              "      <td>19</td>\n",
              "      <td>D6AD</td>\n",
              "    </tr>\n",
              "  </tbody>\n",
              "</table>\n",
              "</div>\n",
              "    <div class=\"colab-df-buttons\">\n",
              "\n",
              "  <div class=\"colab-df-container\">\n",
              "    <button class=\"colab-df-convert\" onclick=\"convertToInteractive('df-fd371bef-78fe-4602-8285-cb3e36cd601d')\"\n",
              "            title=\"Convert this dataframe to an interactive table.\"\n",
              "            style=\"display:none;\">\n",
              "\n",
              "  <svg xmlns=\"http://www.w3.org/2000/svg\" height=\"24px\" viewBox=\"0 -960 960 960\">\n",
              "    <path d=\"M120-120v-720h720v720H120Zm60-500h600v-160H180v160Zm220 220h160v-160H400v160Zm0 220h160v-160H400v160ZM180-400h160v-160H180v160Zm440 0h160v-160H620v160ZM180-180h160v-160H180v160Zm440 0h160v-160H620v160Z\"/>\n",
              "  </svg>\n",
              "    </button>\n",
              "\n",
              "  <style>\n",
              "    .colab-df-container {\n",
              "      display:flex;\n",
              "      gap: 12px;\n",
              "    }\n",
              "\n",
              "    .colab-df-convert {\n",
              "      background-color: #E8F0FE;\n",
              "      border: none;\n",
              "      border-radius: 50%;\n",
              "      cursor: pointer;\n",
              "      display: none;\n",
              "      fill: #1967D2;\n",
              "      height: 32px;\n",
              "      padding: 0 0 0 0;\n",
              "      width: 32px;\n",
              "    }\n",
              "\n",
              "    .colab-df-convert:hover {\n",
              "      background-color: #E2EBFA;\n",
              "      box-shadow: 0px 1px 2px rgba(60, 64, 67, 0.3), 0px 1px 3px 1px rgba(60, 64, 67, 0.15);\n",
              "      fill: #174EA6;\n",
              "    }\n",
              "\n",
              "    .colab-df-buttons div {\n",
              "      margin-bottom: 4px;\n",
              "    }\n",
              "\n",
              "    [theme=dark] .colab-df-convert {\n",
              "      background-color: #3B4455;\n",
              "      fill: #D2E3FC;\n",
              "    }\n",
              "\n",
              "    [theme=dark] .colab-df-convert:hover {\n",
              "      background-color: #434B5C;\n",
              "      box-shadow: 0px 1px 3px 1px rgba(0, 0, 0, 0.15);\n",
              "      filter: drop-shadow(0px 1px 2px rgba(0, 0, 0, 0.3));\n",
              "      fill: #FFFFFF;\n",
              "    }\n",
              "  </style>\n",
              "\n",
              "    <script>\n",
              "      const buttonEl =\n",
              "        document.querySelector('#df-fd371bef-78fe-4602-8285-cb3e36cd601d button.colab-df-convert');\n",
              "      buttonEl.style.display =\n",
              "        google.colab.kernel.accessAllowed ? 'block' : 'none';\n",
              "\n",
              "      async function convertToInteractive(key) {\n",
              "        const element = document.querySelector('#df-fd371bef-78fe-4602-8285-cb3e36cd601d');\n",
              "        const dataTable =\n",
              "          await google.colab.kernel.invokeFunction('convertToInteractive',\n",
              "                                                    [key], {});\n",
              "        if (!dataTable) return;\n",
              "\n",
              "        const docLinkHtml = 'Like what you see? Visit the ' +\n",
              "          '<a target=\"_blank\" href=https://colab.research.google.com/notebooks/data_table.ipynb>data table notebook</a>'\n",
              "          + ' to learn more about interactive tables.';\n",
              "        element.innerHTML = '';\n",
              "        dataTable['output_type'] = 'display_data';\n",
              "        await google.colab.output.renderOutput(dataTable, element);\n",
              "        const docLink = document.createElement('div');\n",
              "        docLink.innerHTML = docLinkHtml;\n",
              "        element.appendChild(docLink);\n",
              "      }\n",
              "    </script>\n",
              "  </div>\n",
              "\n",
              "\n",
              "<div id=\"df-0b728188-cc70-40cd-884e-e04481e77f74\">\n",
              "  <button class=\"colab-df-quickchart\" onclick=\"quickchart('df-0b728188-cc70-40cd-884e-e04481e77f74')\"\n",
              "            title=\"Suggest charts\"\n",
              "            style=\"display:none;\">\n",
              "\n",
              "<svg xmlns=\"http://www.w3.org/2000/svg\" height=\"24px\"viewBox=\"0 0 24 24\"\n",
              "     width=\"24px\">\n",
              "    <g>\n",
              "        <path d=\"M19 3H5c-1.1 0-2 .9-2 2v14c0 1.1.9 2 2 2h14c1.1 0 2-.9 2-2V5c0-1.1-.9-2-2-2zM9 17H7v-7h2v7zm4 0h-2V7h2v10zm4 0h-2v-4h2v4z\"/>\n",
              "    </g>\n",
              "</svg>\n",
              "  </button>\n",
              "\n",
              "<style>\n",
              "  .colab-df-quickchart {\n",
              "      --bg-color: #E8F0FE;\n",
              "      --fill-color: #1967D2;\n",
              "      --hover-bg-color: #E2EBFA;\n",
              "      --hover-fill-color: #174EA6;\n",
              "      --disabled-fill-color: #AAA;\n",
              "      --disabled-bg-color: #DDD;\n",
              "  }\n",
              "\n",
              "  [theme=dark] .colab-df-quickchart {\n",
              "      --bg-color: #3B4455;\n",
              "      --fill-color: #D2E3FC;\n",
              "      --hover-bg-color: #434B5C;\n",
              "      --hover-fill-color: #FFFFFF;\n",
              "      --disabled-bg-color: #3B4455;\n",
              "      --disabled-fill-color: #666;\n",
              "  }\n",
              "\n",
              "  .colab-df-quickchart {\n",
              "    background-color: var(--bg-color);\n",
              "    border: none;\n",
              "    border-radius: 50%;\n",
              "    cursor: pointer;\n",
              "    display: none;\n",
              "    fill: var(--fill-color);\n",
              "    height: 32px;\n",
              "    padding: 0;\n",
              "    width: 32px;\n",
              "  }\n",
              "\n",
              "  .colab-df-quickchart:hover {\n",
              "    background-color: var(--hover-bg-color);\n",
              "    box-shadow: 0 1px 2px rgba(60, 64, 67, 0.3), 0 1px 3px 1px rgba(60, 64, 67, 0.15);\n",
              "    fill: var(--button-hover-fill-color);\n",
              "  }\n",
              "\n",
              "  .colab-df-quickchart-complete:disabled,\n",
              "  .colab-df-quickchart-complete:disabled:hover {\n",
              "    background-color: var(--disabled-bg-color);\n",
              "    fill: var(--disabled-fill-color);\n",
              "    box-shadow: none;\n",
              "  }\n",
              "\n",
              "  .colab-df-spinner {\n",
              "    border: 2px solid var(--fill-color);\n",
              "    border-color: transparent;\n",
              "    border-bottom-color: var(--fill-color);\n",
              "    animation:\n",
              "      spin 1s steps(1) infinite;\n",
              "  }\n",
              "\n",
              "  @keyframes spin {\n",
              "    0% {\n",
              "      border-color: transparent;\n",
              "      border-bottom-color: var(--fill-color);\n",
              "      border-left-color: var(--fill-color);\n",
              "    }\n",
              "    20% {\n",
              "      border-color: transparent;\n",
              "      border-left-color: var(--fill-color);\n",
              "      border-top-color: var(--fill-color);\n",
              "    }\n",
              "    30% {\n",
              "      border-color: transparent;\n",
              "      border-left-color: var(--fill-color);\n",
              "      border-top-color: var(--fill-color);\n",
              "      border-right-color: var(--fill-color);\n",
              "    }\n",
              "    40% {\n",
              "      border-color: transparent;\n",
              "      border-right-color: var(--fill-color);\n",
              "      border-top-color: var(--fill-color);\n",
              "    }\n",
              "    60% {\n",
              "      border-color: transparent;\n",
              "      border-right-color: var(--fill-color);\n",
              "    }\n",
              "    80% {\n",
              "      border-color: transparent;\n",
              "      border-right-color: var(--fill-color);\n",
              "      border-bottom-color: var(--fill-color);\n",
              "    }\n",
              "    90% {\n",
              "      border-color: transparent;\n",
              "      border-bottom-color: var(--fill-color);\n",
              "    }\n",
              "  }\n",
              "</style>\n",
              "\n",
              "  <script>\n",
              "    async function quickchart(key) {\n",
              "      const quickchartButtonEl =\n",
              "        document.querySelector('#' + key + ' button');\n",
              "      quickchartButtonEl.disabled = true;  // To prevent multiple clicks.\n",
              "      quickchartButtonEl.classList.add('colab-df-spinner');\n",
              "      try {\n",
              "        const charts = await google.colab.kernel.invokeFunction(\n",
              "            'suggestCharts', [key], {});\n",
              "      } catch (error) {\n",
              "        console.error('Error during call to suggestCharts:', error);\n",
              "      }\n",
              "      quickchartButtonEl.classList.remove('colab-df-spinner');\n",
              "      quickchartButtonEl.classList.add('colab-df-quickchart-complete');\n",
              "    }\n",
              "    (() => {\n",
              "      let quickchartButtonEl =\n",
              "        document.querySelector('#df-0b728188-cc70-40cd-884e-e04481e77f74 button');\n",
              "      quickchartButtonEl.style.display =\n",
              "        google.colab.kernel.accessAllowed ? 'block' : 'none';\n",
              "    })();\n",
              "  </script>\n",
              "</div>\n",
              "    </div>\n",
              "  </div>\n"
            ]
          },
          "metadata": {},
          "execution_count": 10
        }
      ]
    },
    {
      "cell_type": "code",
      "source": [
        "df = pd.DataFrame(details)\n",
        "print(df[['Name']])"
      ],
      "metadata": {
        "colab": {
          "base_uri": "https://localhost:8080/"
        },
        "id": "Xzdcc9IQnvUH",
        "outputId": "bc8a563c-5711-4944-aef4-fb2635a056d7"
      },
      "execution_count": null,
      "outputs": [
        {
          "output_type": "stream",
          "name": "stdout",
          "text": [
            "     Name\n",
            "0   Parth\n",
            "1  Naruto\n",
            "2  Ichigo\n",
            "3   Luffy\n"
          ]
        }
      ]
    },
    {
      "cell_type": "code",
      "source": [
        "\n",
        "record = {\n",
        "\n",
        "'Name': ['Ankit', 'Amit', 'Aishwarya', 'Priyanka', 'Priya', 'Shaurya' ],\n",
        "'Age': [21, 19, 20, 18, 17, 21],\n",
        "'Stream': ['Math', 'Commerce', 'Science', 'Math', 'Math', 'Science'],\n",
        "'Percentage': [88, 72, 95, 70, 65, 88] }\n",
        "\n",
        "dataframe = pd.DataFrame(record)\n",
        "\n",
        "print(\"Given Dataframe :\\n\", dataframe)\n",
        "\n",
        "res_df = dataframe[dataframe['Percentage'] > 80]\n",
        "\n",
        "print('\\nResult dataframe :\\n', res_df)"
      ],
      "metadata": {
        "colab": {
          "base_uri": "https://localhost:8080/"
        },
        "id": "UUupMSaUn2vu",
        "outputId": "7db37d64-21ba-40ee-e40c-a96a07e43b83"
      },
      "execution_count": null,
      "outputs": [
        {
          "output_type": "stream",
          "name": "stdout",
          "text": [
            "Given Dataframe :\n",
            "         Name  Age    Stream  Percentage\n",
            "0      Ankit   21      Math          88\n",
            "1       Amit   19  Commerce          72\n",
            "2  Aishwarya   20   Science          95\n",
            "3   Priyanka   18      Math          70\n",
            "4      Priya   17      Math          65\n",
            "5    Shaurya   21   Science          88\n",
            "\n",
            "Result dataframe :\n",
            "         Name  Age   Stream  Percentage\n",
            "0      Ankit   21     Math          88\n",
            "2  Aishwarya   20  Science          95\n",
            "5    Shaurya   21  Science          88\n"
          ]
        }
      ]
    },
    {
      "cell_type": "markdown",
      "source": [
        "## 5 Data Analytics Libraries in R\n",
        "\n",
        "* **dplyr:**    \n",
        "  - The dplyr is a powerful R-package to manipulate, clean and summarize unstructured data.\n",
        "  - It makes data exploration and data manipulation easy and fast in R. The package \"dplyr\" comprises many functions that perform mostly used data manipulation operations such as applying filter, selecting specific columns, sorting data, adding or deleting columns and aggregating data.    \n",
        "  Features:\n",
        "  - It provides simple “verbs”, functions that correspond to the most common data manipulation tasks, to help you translate your thoughts into code.\n",
        "  - It uses efficient backends, so you spend less time waiting for the computer.\n",
        "\n",
        "* **ggplot2**\n",
        "  - ggplot2 implements the grammar of graphics, a coherent system for describing and building graphs.\n",
        "  - This approach gives us a coherent way to produce visualizations by expressing relationships between the attributes of data and their graphical representation\n",
        "  - Thus, one can create plots faster by learning one system and applying it in many places.\n",
        "\n",
        "* **lubridate**\n",
        "  - R by default offers limited capability to deal with date and time.\n",
        "  - Lubridate is an R package that makes it easier to work with dates and times\n",
        "  - It offers a wide variety of functions that make it easier to work with .dates and time.\n",
        "\n",
        "* **mlr**\n",
        " - The mlr package provides a generic, object-oriented, and extensible framework for classification, regression, survival analysis and clustering for the R language.\n",
        " - It provides a unified interface to more than 160 basic learners and includes meta-algorithms and model selection techniques to improve and extend the functionality of basic learners with, e.g., hyperparameter tuning, feature selection, and ensemble construction.\n",
        " - Parallel high-performance computing is also natively supported by mlr.\n",
        "\n",
        "* **shiny**\n",
        "  - Shiny is an R package that makes it easy to build interactive web applications (apps) straight from R.\n",
        "  - Shiny is a framework for creating web applications using R code.\n",
        "  - It is designed primarily with data scientists in mind and it can create pretty complicated Shiny apps without requiring knowledge of HTML, CSS, or JavaScript\n",
        "  - Provides a carefully curated set of user interface (UI for short) functions that generate the HTML, CSS, and JavaScript needed for common tasks\n",
        "  - It follows a style of programming called reactive programming which automatically tracks the dependencies of pieces of code\n",
        "\n"
      ],
      "metadata": {
        "id": "LlFxNHZbobOm"
      }
    },
    {
      "cell_type": "code",
      "source": [
        "df <- data.frame(\n",
        "Name = c(\"Parth\", \"Naruto\", \"Luffy\"),\n",
        "Age = c(25, 23, 22),\n",
        "Score = c(95, 89, 78)\n",
        ")\n",
        "df\n"
      ],
      "metadata": {
        "colab": {
          "base_uri": "https://localhost:8080/",
          "height": 192
        },
        "id": "K-tmShHcqBlg",
        "outputId": "75ec4cb0-c9cb-4a7b-bae4-ea0f1855cc11"
      },
      "execution_count": null,
      "outputs": [
        {
          "output_type": "display_data",
          "data": {
            "text/html": [
              "<table class=\"dataframe\">\n",
              "<caption>A data.frame: 3 × 3</caption>\n",
              "<thead>\n",
              "\t<tr><th scope=col>Name</th><th scope=col>Age</th><th scope=col>Score</th></tr>\n",
              "\t<tr><th scope=col>&lt;chr&gt;</th><th scope=col>&lt;dbl&gt;</th><th scope=col>&lt;dbl&gt;</th></tr>\n",
              "</thead>\n",
              "<tbody>\n",
              "\t<tr><td>Parth </td><td>25</td><td>95</td></tr>\n",
              "\t<tr><td>Naruto</td><td>23</td><td>89</td></tr>\n",
              "\t<tr><td>Luffy </td><td>22</td><td>78</td></tr>\n",
              "</tbody>\n",
              "</table>\n"
            ],
            "text/markdown": "\nA data.frame: 3 × 3\n\n| Name &lt;chr&gt; | Age &lt;dbl&gt; | Score &lt;dbl&gt; |\n|---|---|---|\n| Parth  | 25 | 95 |\n| Naruto | 23 | 89 |\n| Luffy  | 22 | 78 |\n\n",
            "text/latex": "A data.frame: 3 × 3\n\\begin{tabular}{lll}\n Name & Age & Score\\\\\n <chr> & <dbl> & <dbl>\\\\\n\\hline\n\t Parth  & 25 & 95\\\\\n\t Naruto & 23 & 89\\\\\n\t Luffy  & 22 & 78\\\\\n\\end{tabular}\n",
            "text/plain": [
              "  Name   Age Score\n",
              "1 Parth  25  95   \n",
              "2 Naruto 23  89   \n",
              "3 Luffy  22  78   "
            ]
          },
          "metadata": {}
        }
      ]
    },
    {
      "cell_type": "code",
      "source": [
        "library(dplyr)\n",
        "# create a data frame\n",
        "stats <- data.frame(player=c('A', 'B', 'C', 'D'),\n",
        "                runs=c(100, 200, 408, 19),\n",
        "                wickets=c(17, 20, NA, 5))\n",
        "\n",
        "# fetch players who scored more\n",
        "# than 100 runs\n",
        "filter(stats, runs>100)"
      ],
      "metadata": {
        "id": "CykoANR5qwn3",
        "colab": {
          "base_uri": "https://localhost:8080/",
          "height": 161
        },
        "outputId": "80ca0044-b740-4fd0-d0b5-2b2d8b15fcad"
      },
      "execution_count": null,
      "outputs": [
        {
          "output_type": "display_data",
          "data": {
            "text/html": [
              "<table class=\"dataframe\">\n",
              "<caption>A data.frame: 2 × 3</caption>\n",
              "<thead>\n",
              "\t<tr><th scope=col>player</th><th scope=col>runs</th><th scope=col>wickets</th></tr>\n",
              "\t<tr><th scope=col>&lt;chr&gt;</th><th scope=col>&lt;dbl&gt;</th><th scope=col>&lt;dbl&gt;</th></tr>\n",
              "</thead>\n",
              "<tbody>\n",
              "\t<tr><td>B</td><td>200</td><td>20</td></tr>\n",
              "\t<tr><td>C</td><td>408</td><td>NA</td></tr>\n",
              "</tbody>\n",
              "</table>\n"
            ],
            "text/markdown": "\nA data.frame: 2 × 3\n\n| player &lt;chr&gt; | runs &lt;dbl&gt; | wickets &lt;dbl&gt; |\n|---|---|---|\n| B | 200 | 20 |\n| C | 408 | NA |\n\n",
            "text/latex": "A data.frame: 2 × 3\n\\begin{tabular}{lll}\n player & runs & wickets\\\\\n <chr> & <dbl> & <dbl>\\\\\n\\hline\n\t B & 200 & 20\\\\\n\t C & 408 & NA\\\\\n\\end{tabular}\n",
            "text/plain": [
              "  player runs wickets\n",
              "1 B      200  20     \n",
              "2 C      408  NA     "
            ]
          },
          "metadata": {}
        }
      ]
    },
    {
      "cell_type": "code",
      "source": [
        "stats <- data.frame(player=c('A', 'B', 'C', 'D'),\n",
        "                runs=c(100, 200, 408, 19),\n",
        "                wickets=c(17, 20, 7, 5))\n",
        "\n",
        "# summarize method\n",
        "summarize(stats, sum(runs), mean(runs))"
      ],
      "metadata": {
        "colab": {
          "base_uri": "https://localhost:8080/",
          "height": 129
        },
        "id": "Iunh4iRGmyvb",
        "outputId": "54bfdf9c-d824-493d-b21b-1b22c19f6c47"
      },
      "execution_count": null,
      "outputs": [
        {
          "output_type": "display_data",
          "data": {
            "text/html": [
              "<table class=\"dataframe\">\n",
              "<caption>A data.frame: 1 × 2</caption>\n",
              "<thead>\n",
              "\t<tr><th scope=col>sum(runs)</th><th scope=col>mean(runs)</th></tr>\n",
              "\t<tr><th scope=col>&lt;dbl&gt;</th><th scope=col>&lt;dbl&gt;</th></tr>\n",
              "</thead>\n",
              "<tbody>\n",
              "\t<tr><td>727</td><td>181.75</td></tr>\n",
              "</tbody>\n",
              "</table>\n"
            ],
            "text/markdown": "\nA data.frame: 1 × 2\n\n| sum(runs) &lt;dbl&gt; | mean(runs) &lt;dbl&gt; |\n|---|---|\n| 727 | 181.75 |\n\n",
            "text/latex": "A data.frame: 1 × 2\n\\begin{tabular}{ll}\n sum(runs) & mean(runs)\\\\\n <dbl> & <dbl>\\\\\n\\hline\n\t 727 & 181.75\\\\\n\\end{tabular}\n",
            "text/plain": [
              "  sum(runs) mean(runs)\n",
              "1 727       181.75    "
            ]
          },
          "metadata": {}
        }
      ]
    },
    {
      "cell_type": "code",
      "source": [
        "library(ggplot2)\n",
        "\n",
        "ggplot(data = mtcars) +\n",
        "  labs(title = \"MTCars Data Plot\")"
      ],
      "metadata": {
        "colab": {
          "base_uri": "https://localhost:8080/",
          "height": 437
        },
        "id": "5Vq0_IPMm-HF",
        "outputId": "bf54f9ab-4593-49c4-9e46-c48e1504574b"
      },
      "execution_count": null,
      "outputs": [
        {
          "output_type": "display_data",
          "data": {
            "text/plain": [
              "plot without title"
            ],
            "image/png": "[encoded data removed]"
          },
          "metadata": {
            "image/png": {
              "width": 420,
              "height": 420
            }
          }
        }
      ]
    },
    {
      "cell_type": "code",
      "source": [
        "ggplot(data = mtcars, aes(x = hp, y = mpg, col = disp))+\n",
        " labs(title = \"MTCars Data Plot\")"
      ],
      "metadata": {
        "colab": {
          "base_uri": "https://localhost:8080/",
          "height": 437
        },
        "id": "R2qrKDiCnMY_",
        "outputId": "81554a98-1633-48b3-cb48-26ec129539e4"
      },
      "execution_count": null,
      "outputs": [
        {
          "output_type": "display_data",
          "data": {
            "text/plain": [
              "plot without title"
            ],
            "image/png": "[encoded data removed]"
          },
          "metadata": {
            "image/png": {
              "width": 420,
              "height": 420
            }
          }
        }
      ]
    },
    {
      "cell_type": "code",
      "source": [
        "ggplot(data = mtcars, aes(x = hp, y = mpg, col = disp)) +\n",
        "  geom_point() +\n",
        "  labs(title = \"Miles per Gallon vs Horsepower\",\n",
        "       x = \"Horsepower\",\n",
        "       y = \"Miles per Gallon\")"
      ],
      "metadata": {
        "colab": {
          "base_uri": "https://localhost:8080/",
          "height": 437
        },
        "id": "ynYqMgmXnPJg",
        "outputId": "26fd3e77-c2b8-4850-94dc-cf6c2225cb21"
      },
      "execution_count": null,
      "outputs": [
        {
          "output_type": "display_data",
          "data": {
            "text/plain": [
              "plot without title"
            ],
            "image/png": "[encoded data removed]"
          },
          "metadata": {
            "image/png": {
              "width": 420,
              "height": 420
            }
          }
        }
      ]
    },
    {
      "cell_type": "markdown",
      "source": [
        "##Conclusion:\n",
        "Identified the Data Analytics Libraries in Python and R\n",
        "\n",
        "Performed simple experiments with these libraries in Python and R"
      ],
      "metadata": {
        "id": "tIL7ydrBqpb5"
      }
    }
  ]
}